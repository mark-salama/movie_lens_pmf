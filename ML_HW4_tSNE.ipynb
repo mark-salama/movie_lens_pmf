{
 "cells": [
  {
   "cell_type": "code",
   "execution_count": 1,
   "metadata": {
    "collapsed": true
   },
   "outputs": [],
   "source": [
    "import csv\n",
    "%matplotlib inline\n",
    "import numpy as np\n",
    "import pandas as pd\n",
    "import matplotlib.pyplot as plt\n",
    "import math as math\n",
    "import datetime as dt "
   ]
  },
  {
   "cell_type": "code",
   "execution_count": 198,
   "metadata": {
    "collapsed": false
   },
   "outputs": [],
   "source": [
    "# load movies names\n",
    "movies = open('data/movies.txt')\n",
    "movie_names =[]\n",
    "for i in movies:\n",
    "    movie_names.append(i)"
   ]
  },
  {
   "cell_type": "code",
   "execution_count": 121,
   "metadata": {
    "collapsed": false
   },
   "outputs": [],
   "source": [
    "# create matrix of nans then load ratings\n",
    "matrix_m = np.empty(shape=(943, 1682)) * np.nan\n",
    "train = open('data/ratings.csv', 'rb')\n",
    "train = csv.reader(train)\n",
    "for i in train:\n",
    "    matrix_m[int(i[0])-1,int(i[1])-1] = i[2]"
   ]
  },
  {
   "cell_type": "markdown",
   "metadata": {},
   "source": [
    "# probabilistic matrix factorization"
   ]
  },
  {
   "cell_type": "code",
   "execution_count": 610,
   "metadata": {
    "collapsed": false
   },
   "outputs": [
    {
     "data": {
      "text/plain": [
       "0.9401056410398669"
      ]
     },
     "execution_count": 610,
     "metadata": {},
     "output_type": "execute_result"
    }
   ],
   "source": [
    "count = float(np.sum(np.isnan(matrix_m)))/(matrix_m.shape[0]*matrix_m.shape[1])\n",
    "count\n"
   ]
  },
  {
   "cell_type": "code",
   "execution_count": 46,
   "metadata": {
    "collapsed": false
   },
   "outputs": [],
   "source": [
    "lamb = 1\n",
    "varsq = .25"
   ]
  },
  {
   "cell_type": "code",
   "execution_count": 555,
   "metadata": {
    "collapsed": false
   },
   "outputs": [],
   "source": [
    "# coordinate ascent to build movie and user matrix factorizations\n",
    "def matrix_fact(numb_factor, interations):\n",
    "    user_list = []\n",
    "    movie_list = []\n",
    "    for i in range(interations): \n",
    "    \n",
    "        user_m = np.random.multivariate_normal(np.zeros(numb_factor),np.eye(numb_factor),943)\n",
    "        movie_m = np.random.multivariate_normal(np.zeros(numb_factor),np.eye(numb_factor),1682)\n",
    "        first_part = lamb*varsq*np.eye(numb_factor)\n",
    "\n",
    "        for t in range(0,100):\n",
    "\n",
    "            for i in range(0,user_m.shape[0]):\n",
    "\n",
    "                locas_nan = np.where(~np.isnan(matrix_m[i,:]))\n",
    "                v_dot = np.dot(np.transpose(movie_m[locas_nan]),movie_m[locas_nan])\n",
    "                m_v_dot = np.dot(matrix_m[i][locas_nan],movie_m[locas_nan])         \n",
    "                user_m[i] = (np.dot(np.linalg.inv(first_part+v_dot),m_v_dot)).flatten()\n",
    "\n",
    "            for k in range(0,movie_m.shape[0]):\n",
    "\n",
    "                locas_nan = np.where(~np.isnan(matrix_m[:,k]))\n",
    "                u_dot = np.dot(np.transpose(user_m[locas_nan]),user_m[locas_nan])\n",
    "                m_u_dot = np.dot(matrix_m[:,k][locas_nan],user_m[locas_nan])\n",
    "                movie_m[k] = (np.dot(np.linalg.inv(first_part+u_dot),m_u_dot)).flatten()\n",
    "        \n",
    "        user_list.append(user_m)\n",
    "        movie_list.append(movie_m)\n",
    "        \n",
    "    return user_list, movie_list"
   ]
  },
  {
   "cell_type": "code",
   "execution_count": 556,
   "metadata": {
    "collapsed": false
   },
   "outputs": [],
   "source": [
    "user_list, movie_list = matrix_fact(10,10)"
   ]
  },
  {
   "cell_type": "code",
   "execution_count": 505,
   "metadata": {
    "collapsed": true
   },
   "outputs": [],
   "source": [
    "#calculate root meant squared error on test set\n",
    "def RMSE(user_m, movie_m):    \n",
    "    test = csv.reader(open('data/ratings_test.csv', 'rb'))\n",
    "    RMSE = 0\n",
    "    for i in test:        \n",
    "        guess = np.dot(user_m[int(i[0])-1],movie_m[int(i[1])-1])\n",
    "        RMSE += (float(i[2])-guess)**2\n",
    "    RMSE_run = math.sqrt(RMSE/5000)\n",
    "    return RMSE_run"
   ]
  },
  {
   "cell_type": "code",
   "execution_count": 557,
   "metadata": {
    "collapsed": false
   },
   "outputs": [
    {
     "data": {
      "text/plain": [
       "[1.1137523331126953,\n",
       " 1.1792417560966735,\n",
       " 1.1146662114874695,\n",
       " 1.0844383226978385,\n",
       " 1.1458751009553745,\n",
       " 1.1421008977227174,\n",
       " 1.1036692650902695,\n",
       " 1.0928419897808315,\n",
       " 1.0946168075717735,\n",
       " 1.0969677042118735]"
      ]
     },
     "execution_count": 557,
     "metadata": {},
     "output_type": "execute_result"
    }
   ],
   "source": [
    "RMSE_list = []\n",
    "for i in range(10):\n",
    "    RMSE_list.append(RMSE(user_list[i], movie_list[i]))\n",
    "RMSE_list"
   ]
  },
  {
   "cell_type": "code",
   "execution_count": 558,
   "metadata": {
    "collapsed": false
   },
   "outputs": [],
   "source": [
    "#calculate movies that are most similar to given movie\n",
    "def closest_movies(movie_numb, user_array, movie_array):\n",
    "    dist=np.empty(shape=(movie_array.shape[0],))    \n",
    "    for i in range(0,movie_array.shape[0]): \n",
    "        dist[i] = (np.linalg.norm(movie_array[movie_numb]-movie_array[i]))\n",
    "    movie_order = np.argsort(dist)\n",
    "    movies = []\n",
    "    distances = []\n",
    "    for i in range(1,11):\n",
    "        movies.append(movie_names[movie_order[i]].split(\"(\")[0].split(\",\")[0])\n",
    "        distances.append(dist[movie_order[i]])\n",
    "    return movies, distances"
   ]
  },
  {
   "cell_type": "code",
   "execution_count": 559,
   "metadata": {
    "collapsed": false,
    "scrolled": true
   },
   "outputs": [],
   "source": [
    "star_wars = closest_movies(49, user_list[3], movie_list[3])\n",
    "my_fair_lady = closest_movies(484, user_list[3], movie_list[3])\n",
    "goodfellas = closest_movies(181, user_list[3], movie_list[3])\n",
    "air_force_one = closest_movies(299, user_list[3], movie_list[3])\n",
    "fargo = closest_movies(99, user_list[3], movie_list[3])\n",
    "jurassic_park = closest_movies(81, user_list[3], movie_list[3])\n",
    "aladdin = closest_movies(94, user_list[3], movie_list[3])\n",
    "lion_king = closest_movies(70, user_list[3], movie_list[3])\n",
    "beauty_beast = closest_movies(587, user_list[3], movie_list[3])\n",
    "toy_story = closest_movies(0, user_list[3], movie_list[3])\n",
    "beavis = closest_movies(239, user_list[3], movie_list[3])\n",
    "liar_liar = closest_movies(293, user_list[3], movie_list[3])\n",
    "austin_power = closest_movies(248, user_list[3], movie_list[3])\n",
    "braveheart = closest_movies(21, user_list[3], movie_list[3])\n",
    "billy_madison = closest_movies(40, user_list[3], movie_list[3])\n",
    "clueless = closest_movies(366, user_list[3], movie_list[3])\n",
    "mission_impossible = closest_movies(404, user_list[3], movie_list[3])\n",
    "batman = closest_movies(402, user_list[3], movie_list[3])\n",
    "dumb_dumber = closest_movies(779, user_list[3], movie_list[3])"
   ]
  },
  {
   "cell_type": "code",
   "execution_count": 560,
   "metadata": {
    "collapsed": false
   },
   "outputs": [
    {
     "data": {
      "text/html": [
       "<div>\n",
       "<table border=\"1\" class=\"dataframe\">\n",
       "  <thead>\n",
       "    <tr style=\"text-align: right;\">\n",
       "      <th></th>\n",
       "      <th>Beauty and the Beast</th>\n",
       "    </tr>\n",
       "  </thead>\n",
       "  <tbody>\n",
       "    <tr>\n",
       "      <th>1</th>\n",
       "      <td>Kingpin</td>\n",
       "    </tr>\n",
       "    <tr>\n",
       "      <th>2</th>\n",
       "      <td>Mother</td>\n",
       "    </tr>\n",
       "    <tr>\n",
       "      <th>3</th>\n",
       "      <td>Naked Gun 33 1/3: The Final Insult</td>\n",
       "    </tr>\n",
       "    <tr>\n",
       "      <th>4</th>\n",
       "      <td>Hackers</td>\n",
       "    </tr>\n",
       "    <tr>\n",
       "      <th>5</th>\n",
       "      <td>Tommy Boy</td>\n",
       "    </tr>\n",
       "    <tr>\n",
       "      <th>6</th>\n",
       "      <td>Ace Ventura: Pet Detective</td>\n",
       "    </tr>\n",
       "    <tr>\n",
       "      <th>7</th>\n",
       "      <td>Bulletproof</td>\n",
       "    </tr>\n",
       "    <tr>\n",
       "      <th>8</th>\n",
       "      <td>Happy Gilmore</td>\n",
       "    </tr>\n",
       "    <tr>\n",
       "      <th>9</th>\n",
       "      <td>Craft</td>\n",
       "    </tr>\n",
       "    <tr>\n",
       "      <th>10</th>\n",
       "      <td>Forget Paris</td>\n",
       "    </tr>\n",
       "  </tbody>\n",
       "</table>\n",
       "</div>"
      ],
      "text/plain": [
       "                   Beauty and the Beast\n",
       "1                              Kingpin \n",
       "2                               Mother \n",
       "3   Naked Gun 33 1/3: The Final Insult \n",
       "4                              Hackers \n",
       "5                            Tommy Boy \n",
       "6           Ace Ventura: Pet Detective \n",
       "7                          Bulletproof \n",
       "8                        Happy Gilmore \n",
       "9                                 Craft\n",
       "10                        Forget Paris "
      ]
     },
     "execution_count": 560,
     "metadata": {},
     "output_type": "execute_result"
    }
   ],
   "source": [
    "df = pd.DataFrame({'Beauty and the Beast' : dumb_dumber[0]})\n",
    "df.index = df.index + 1\n",
    "df"
   ]
  },
  {
   "cell_type": "markdown",
   "metadata": {},
   "source": [
    "# what are the factors"
   ]
  },
  {
   "cell_type": "code",
   "execution_count": 588,
   "metadata": {
    "collapsed": true
   },
   "outputs": [],
   "source": [
    "most_rated_movies_for_factors = np.argsort(ratings_per_movie)[::-1][0:250]"
   ]
  },
  {
   "cell_type": "code",
   "execution_count": 601,
   "metadata": {
    "collapsed": false
   },
   "outputs": [],
   "source": [
    "movie_factor_table = pd.DataFrame()\n",
    "\n",
    "movies_by_factor = []\n",
    "column_order = np.argsort(movie_list[3], axis = 0)\n",
    "\n",
    "for i in range(0,movie_list[0].shape[1]):\n",
    "    \n",
    "    top_5 = []\n",
    "    counter1 = 0\n",
    "    for j in range(500):\n",
    "        if counter1 == 5:\n",
    "            break\n",
    "        elif column_order[::-1][j,i] in most_rated_movies_for_factors:\n",
    "                top_5.append(column_order[::-1][j,i])\n",
    "                counter1 += 1\n",
    "    \n",
    "    bottom_5 = []\n",
    "    counter1 = 0\n",
    "    for p in range(500):\n",
    "        if counter1 == 5:\n",
    "            break\n",
    "        elif column_order[p,i] in most_rated_movies_for_factors:\n",
    "                bottom_5.append(column_order[p,i])\n",
    "                counter1 += 1           \n",
    "    \n",
    "    top_5_m = []\n",
    "    bottom_5_m = []\n",
    "    \n",
    "    for h in top_5:\n",
    "        top_5_m.append(movie_names[h].split(\"(\")[0].split(\",\")[0])\n",
    "    for q in bottom_5:\n",
    "        bottom_5_m.append(movie_names[q].split(\"(\")[0].split(\",\")[0])    \n",
    "\n",
    "    temp = pd.DataFrame({'Factor '+str(i+1)+' Low': bottom_5_m,'Factor '+str(i+1)+' High': top_5_m})\n",
    "\n",
    "    frames = [movie_factor_table,temp]\n",
    "    \n",
    "    movie_factor_table = pd.concat(frames,axis=1)\n",
    "    \n",
    "movie_factor_table.index = movie_factor_table.index + 1"
   ]
  },
  {
   "cell_type": "code",
   "execution_count": 602,
   "metadata": {
    "collapsed": false
   },
   "outputs": [
    {
     "data": {
      "text/html": [
       "<div>\n",
       "<table border=\"1\" class=\"dataframe\">\n",
       "  <thead>\n",
       "    <tr style=\"text-align: right;\">\n",
       "      <th></th>\n",
       "      <th>Factor 1 High</th>\n",
       "      <th>Factor 1 Low</th>\n",
       "      <th>Factor 2 High</th>\n",
       "      <th>Factor 2 Low</th>\n",
       "      <th>Factor 3 High</th>\n",
       "      <th>Factor 3 Low</th>\n",
       "      <th>Factor 4 High</th>\n",
       "      <th>Factor 4 Low</th>\n",
       "      <th>Factor 5 High</th>\n",
       "      <th>Factor 5 Low</th>\n",
       "      <th>Factor 6 High</th>\n",
       "      <th>Factor 6 Low</th>\n",
       "      <th>Factor 7 High</th>\n",
       "      <th>Factor 7 Low</th>\n",
       "      <th>Factor 8 High</th>\n",
       "      <th>Factor 8 Low</th>\n",
       "      <th>Factor 9 High</th>\n",
       "      <th>Factor 9 Low</th>\n",
       "      <th>Factor 10 High</th>\n",
       "      <th>Factor 10 Low</th>\n",
       "    </tr>\n",
       "  </thead>\n",
       "  <tbody>\n",
       "    <tr>\n",
       "      <th>1</th>\n",
       "      <td>Crash</td>\n",
       "      <td>Boogie Nights</td>\n",
       "      <td>My Best Friend's Wedding</td>\n",
       "      <td>Boogie Nights</td>\n",
       "      <td>Mystery Science Theater 3000: The Movie</td>\n",
       "      <td>Crash</td>\n",
       "      <td>Everyone Says I Love You</td>\n",
       "      <td>Crash</td>\n",
       "      <td>Big Night</td>\n",
       "      <td>My Best Friend's Wedding</td>\n",
       "      <td>Reservoir Dogs</td>\n",
       "      <td>Sound of Music</td>\n",
       "      <td>Monty Python and the Holy Grail</td>\n",
       "      <td>Crash</td>\n",
       "      <td>Kingpin</td>\n",
       "      <td>In &amp; Out</td>\n",
       "      <td>Remains of the Day</td>\n",
       "      <td>Everyone Says I Love You</td>\n",
       "      <td>Everyone Says I Love You</td>\n",
       "      <td>Die Hard: With a Vengeance</td>\n",
       "    </tr>\n",
       "    <tr>\n",
       "      <th>2</th>\n",
       "      <td>Die Hard: With a Vengeance</td>\n",
       "      <td>Everyone Says I Love You</td>\n",
       "      <td>Pretty Woman</td>\n",
       "      <td>This Is Spinal Tap</td>\n",
       "      <td>Fly Away Home</td>\n",
       "      <td>Boogie Nights</td>\n",
       "      <td>Evita</td>\n",
       "      <td>Starship Troopers</td>\n",
       "      <td>Monty Python's Life of Brian</td>\n",
       "      <td>Scream</td>\n",
       "      <td>Trainspotting</td>\n",
       "      <td>Gone with the Wind</td>\n",
       "      <td>Princess Bride</td>\n",
       "      <td>Jungle2Jungle</td>\n",
       "      <td>Beavis and Butt-head Do America</td>\n",
       "      <td>Contact</td>\n",
       "      <td>Manchurian Candidate</td>\n",
       "      <td>Spawn</td>\n",
       "      <td>Sound of Music</td>\n",
       "      <td>Top Gun</td>\n",
       "    </tr>\n",
       "    <tr>\n",
       "      <th>3</th>\n",
       "      <td>Star Trek IV: The Voyage Home</td>\n",
       "      <td>English Patient</td>\n",
       "      <td>First Wives Club</td>\n",
       "      <td>Clockwork Orange</td>\n",
       "      <td>Liar Liar</td>\n",
       "      <td>Leaving Las Vegas</td>\n",
       "      <td>Singin' in the Rain</td>\n",
       "      <td>Mars Attacks!</td>\n",
       "      <td>Dr. Strangelove or: How I Learned to Stop Worr...</td>\n",
       "      <td>Interview with the Vampire</td>\n",
       "      <td>Beavis and Butt-head Do America</td>\n",
       "      <td>It's a Wonderful Life</td>\n",
       "      <td>Star Wars</td>\n",
       "      <td>Evita</td>\n",
       "      <td>Mother</td>\n",
       "      <td>Everyone Says I Love You</td>\n",
       "      <td>Fargo</td>\n",
       "      <td>Mystery Science Theater 3000: The Movie</td>\n",
       "      <td>Mary Poppins</td>\n",
       "      <td>Rock</td>\n",
       "    </tr>\n",
       "    <tr>\n",
       "      <th>4</th>\n",
       "      <td>Die Hard 2</td>\n",
       "      <td>Clerks</td>\n",
       "      <td>Titanic</td>\n",
       "      <td>Mars Attacks!</td>\n",
       "      <td>Seven Years in Tibet</td>\n",
       "      <td>Mighty Aphrodite</td>\n",
       "      <td>Swingers</td>\n",
       "      <td>In &amp; Out</td>\n",
       "      <td>Bridge on the River Kwai</td>\n",
       "      <td>Seven</td>\n",
       "      <td>Swingers</td>\n",
       "      <td>Sleepless in Seattle</td>\n",
       "      <td>Patton</td>\n",
       "      <td>Lost World: Jurassic Park</td>\n",
       "      <td>Ed Wood</td>\n",
       "      <td>Philadelphia</td>\n",
       "      <td>Some Like It Hot</td>\n",
       "      <td>George of the Jungle</td>\n",
       "      <td>Nightmare Before Christmas</td>\n",
       "      <td>Independence Day</td>\n",
       "    </tr>\n",
       "    <tr>\n",
       "      <th>5</th>\n",
       "      <td>Mystery Science Theater 3000: The Movie</td>\n",
       "      <td>Heat</td>\n",
       "      <td>Phenomenon</td>\n",
       "      <td>Monty Python and the Holy Grail</td>\n",
       "      <td>Saint</td>\n",
       "      <td>Wag the Dog</td>\n",
       "      <td>Jerry Maguire</td>\n",
       "      <td>Clockwork Orange</td>\n",
       "      <td>Annie Hall</td>\n",
       "      <td>Austin Powers: International Man of Mystery</td>\n",
       "      <td>Brazil</td>\n",
       "      <td>Ghost</td>\n",
       "      <td>Clerks</td>\n",
       "      <td>Spawn</td>\n",
       "      <td>Jungle2Jungle</td>\n",
       "      <td>Apt Pupil</td>\n",
       "      <td>Secrets &amp; Lies</td>\n",
       "      <td>Beavis and Butt-head Do America</td>\n",
       "      <td>George of the Jungle</td>\n",
       "      <td>Time to Kill</td>\n",
       "    </tr>\n",
       "  </tbody>\n",
       "</table>\n",
       "</div>"
      ],
      "text/plain": [
       "                              Factor 1 High               Factor 1 Low  \\\n",
       "1                                    Crash              Boogie Nights    \n",
       "2               Die Hard: With a Vengeance   Everyone Says I Love You    \n",
       "3            Star Trek IV: The Voyage Home             English Patient   \n",
       "4                               Die Hard 2                     Clerks    \n",
       "5  Mystery Science Theater 3000: The Movie                       Heat    \n",
       "\n",
       "               Factor 2 High                      Factor 2 Low  \\\n",
       "1  My Best Friend's Wedding                     Boogie Nights    \n",
       "2              Pretty Woman                This Is Spinal Tap    \n",
       "3           First Wives Club                  Clockwork Orange   \n",
       "4                   Titanic                     Mars Attacks!    \n",
       "5                Phenomenon   Monty Python and the Holy Grail    \n",
       "\n",
       "                              Factor 3 High        Factor 3 Low  \\\n",
       "1  Mystery Science Theater 3000: The Movie               Crash    \n",
       "2                            Fly Away Home       Boogie Nights    \n",
       "3                                Liar Liar   Leaving Las Vegas    \n",
       "4                     Seven Years in Tibet    Mighty Aphrodite    \n",
       "5                                     Saint        Wag the Dog    \n",
       "\n",
       "               Factor 4 High        Factor 4 Low  \\\n",
       "1  Everyone Says I Love You               Crash    \n",
       "2                     Evita   Starship Troopers    \n",
       "3       Singin' in the Rain       Mars Attacks!    \n",
       "4                  Swingers            In & Out    \n",
       "5             Jerry Maguire     Clockwork Orange   \n",
       "\n",
       "                                       Factor 5 High  \\\n",
       "1                                         Big Night    \n",
       "2                      Monty Python's Life of Brian    \n",
       "3  Dr. Strangelove or: How I Learned to Stop Worr...   \n",
       "4                           Bridge on the River Kwai   \n",
       "5                                        Annie Hall    \n",
       "\n",
       "                                   Factor 5 Low  \\\n",
       "1                     My Best Friend's Wedding    \n",
       "2                                       Scream    \n",
       "3                   Interview with the Vampire    \n",
       "4                                        Seven    \n",
       "5  Austin Powers: International Man of Mystery    \n",
       "\n",
       "                      Factor 6 High            Factor 6 Low  \\\n",
       "1                   Reservoir Dogs           Sound of Music   \n",
       "2                    Trainspotting      Gone with the Wind    \n",
       "3  Beavis and Butt-head Do America   It's a Wonderful Life    \n",
       "4                         Swingers    Sleepless in Seattle    \n",
       "5                           Brazil                   Ghost    \n",
       "\n",
       "                      Factor 7 High               Factor 7 Low  \\\n",
       "1  Monty Python and the Holy Grail                      Crash    \n",
       "2                    Princess Bride             Jungle2Jungle    \n",
       "3                        Star Wars                      Evita    \n",
       "4                           Patton   Lost World: Jurassic Park   \n",
       "5                           Clerks                      Spawn    \n",
       "\n",
       "                      Factor 8 High               Factor 8 Low  \\\n",
       "1                          Kingpin                   In & Out    \n",
       "2  Beavis and Butt-head Do America                    Contact    \n",
       "3                           Mother   Everyone Says I Love You    \n",
       "4                          Ed Wood               Philadelphia    \n",
       "5                    Jungle2Jungle                  Apt Pupil    \n",
       "\n",
       "          Factor 9 High                              Factor 9 Low  \\\n",
       "1    Remains of the Day                 Everyone Says I Love You    \n",
       "2  Manchurian Candidate                                    Spawn    \n",
       "3                Fargo   Mystery Science Theater 3000: The Movie    \n",
       "4     Some Like It Hot                      George of the Jungle    \n",
       "5       Secrets & Lies           Beavis and Butt-head Do America    \n",
       "\n",
       "               Factor 10 High                Factor 10 Low  \n",
       "1   Everyone Says I Love You   Die Hard: With a Vengeance   \n",
       "2              Sound of Music                     Top Gun   \n",
       "3               Mary Poppins                          Rock  \n",
       "4  Nightmare Before Christmas            Independence Day   \n",
       "5       George of the Jungle                  Time to Kill  "
      ]
     },
     "execution_count": 602,
     "metadata": {},
     "output_type": "execute_result"
    }
   ],
   "source": [
    "movie_factor_table"
   ]
  },
  {
   "cell_type": "markdown",
   "metadata": {
    "collapsed": true
   },
   "source": [
    "# dimensionality reduction"
   ]
  },
  {
   "cell_type": "code",
   "execution_count": 623,
   "metadata": {
    "collapsed": false
   },
   "outputs": [],
   "source": [
    "from sklearn.manifold import TSNE\n",
    "X = movie_list[7]\n",
    "model = TSNE(n_components=2, perplexity = 5.0, learning_rate=200.0, n_iter = 2000, random_state=0)\n",
    "np.set_printoptions(suppress=True)\n",
    "movies_2d = model.fit_transform(X)"
   ]
  },
  {
   "cell_type": "code",
   "execution_count": 624,
   "metadata": {
    "collapsed": true
   },
   "outputs": [],
   "source": [
    "ratings_per_movie = np.sum(~np.isnan(matrix_m), axis=0)\n",
    "most_rated_movies = np.argsort(ratings_per_movie)[::-1][0:20]\n",
    "movie_labels = []\n",
    "for i in most_rated_movies:\n",
    "    movie_labels.append(movie_names[i].split(\"(\")[0].split(\",\")[0])"
   ]
  },
  {
   "cell_type": "code",
   "execution_count": 625,
   "metadata": {
    "collapsed": false
   },
   "outputs": [
    {
     "data": {
      "text/html": [
       "<div>\n",
       "<table border=\"1\" class=\"dataframe\">\n",
       "  <thead>\n",
       "    <tr style=\"text-align: right;\">\n",
       "      <th></th>\n",
       "      <th>Movie</th>\n",
       "      <th>X</th>\n",
       "      <th>Y</th>\n",
       "    </tr>\n",
       "  </thead>\n",
       "  <tbody>\n",
       "    <tr>\n",
       "      <th>1</th>\n",
       "      <td>Star Wars</td>\n",
       "      <td>2.458152</td>\n",
       "      <td>8.254081</td>\n",
       "    </tr>\n",
       "    <tr>\n",
       "      <th>2</th>\n",
       "      <td>Contact</td>\n",
       "      <td>-2.927829</td>\n",
       "      <td>-6.689777</td>\n",
       "    </tr>\n",
       "    <tr>\n",
       "      <th>3</th>\n",
       "      <td>Return of the Jedi</td>\n",
       "      <td>2.503699</td>\n",
       "      <td>8.273936</td>\n",
       "    </tr>\n",
       "    <tr>\n",
       "      <th>4</th>\n",
       "      <td>Fargo</td>\n",
       "      <td>3.803853</td>\n",
       "      <td>-0.073355</td>\n",
       "    </tr>\n",
       "    <tr>\n",
       "      <th>5</th>\n",
       "      <td>Liar Liar</td>\n",
       "      <td>8.280136</td>\n",
       "      <td>4.030177</td>\n",
       "    </tr>\n",
       "    <tr>\n",
       "      <th>6</th>\n",
       "      <td>Scream</td>\n",
       "      <td>-0.686027</td>\n",
       "      <td>3.049107</td>\n",
       "    </tr>\n",
       "    <tr>\n",
       "      <th>7</th>\n",
       "      <td>English Patient</td>\n",
       "      <td>2.897108</td>\n",
       "      <td>-6.428655</td>\n",
       "    </tr>\n",
       "    <tr>\n",
       "      <th>8</th>\n",
       "      <td>Toy Story</td>\n",
       "      <td>0.823320</td>\n",
       "      <td>6.903513</td>\n",
       "    </tr>\n",
       "    <tr>\n",
       "      <th>9</th>\n",
       "      <td>Independence Day</td>\n",
       "      <td>-1.253729</td>\n",
       "      <td>4.534826</td>\n",
       "    </tr>\n",
       "    <tr>\n",
       "      <th>10</th>\n",
       "      <td>Raiders of the Lost Ark</td>\n",
       "      <td>2.381659</td>\n",
       "      <td>8.217517</td>\n",
       "    </tr>\n",
       "    <tr>\n",
       "      <th>11</th>\n",
       "      <td>Air Force One</td>\n",
       "      <td>6.988647</td>\n",
       "      <td>2.980883</td>\n",
       "    </tr>\n",
       "    <tr>\n",
       "      <th>12</th>\n",
       "      <td>Godfather</td>\n",
       "      <td>9.630954</td>\n",
       "      <td>1.585189</td>\n",
       "    </tr>\n",
       "    <tr>\n",
       "      <th>13</th>\n",
       "      <td>Pulp Fiction</td>\n",
       "      <td>8.602121</td>\n",
       "      <td>1.456996</td>\n",
       "    </tr>\n",
       "    <tr>\n",
       "      <th>14</th>\n",
       "      <td>Jerry Maguire</td>\n",
       "      <td>0.110774</td>\n",
       "      <td>6.480950</td>\n",
       "    </tr>\n",
       "    <tr>\n",
       "      <th>15</th>\n",
       "      <td>Silence of the Lambs</td>\n",
       "      <td>6.255277</td>\n",
       "      <td>-0.826828</td>\n",
       "    </tr>\n",
       "    <tr>\n",
       "      <th>16</th>\n",
       "      <td>Rock</td>\n",
       "      <td>6.988308</td>\n",
       "      <td>2.974165</td>\n",
       "    </tr>\n",
       "    <tr>\n",
       "      <th>17</th>\n",
       "      <td>Twelve Monkeys</td>\n",
       "      <td>3.939457</td>\n",
       "      <td>-0.530520</td>\n",
       "    </tr>\n",
       "    <tr>\n",
       "      <th>18</th>\n",
       "      <td>Empire Strikes Back</td>\n",
       "      <td>2.459776</td>\n",
       "      <td>8.249251</td>\n",
       "    </tr>\n",
       "    <tr>\n",
       "      <th>19</th>\n",
       "      <td>Star Trek: First Contact</td>\n",
       "      <td>0.470128</td>\n",
       "      <td>7.570615</td>\n",
       "    </tr>\n",
       "    <tr>\n",
       "      <th>20</th>\n",
       "      <td>Back to the Future</td>\n",
       "      <td>0.485609</td>\n",
       "      <td>6.695891</td>\n",
       "    </tr>\n",
       "  </tbody>\n",
       "</table>\n",
       "</div>"
      ],
      "text/plain": [
       "                        Movie         X         Y\n",
       "1                  Star Wars   2.458152  8.254081\n",
       "2                    Contact  -2.927829 -6.689777\n",
       "3         Return of the Jedi   2.503699  8.273936\n",
       "4                      Fargo   3.803853 -0.073355\n",
       "5                  Liar Liar   8.280136  4.030177\n",
       "6                     Scream  -0.686027  3.049107\n",
       "7             English Patient  2.897108 -6.428655\n",
       "8                  Toy Story   0.823320  6.903513\n",
       "9           Independence Day  -1.253729  4.534826\n",
       "10   Raiders of the Lost Ark   2.381659  8.217517\n",
       "11             Air Force One   6.988647  2.980883\n",
       "12                  Godfather  9.630954  1.585189\n",
       "13              Pulp Fiction   8.602121  1.456996\n",
       "14             Jerry Maguire   0.110774  6.480950\n",
       "15       Silence of the Lambs  6.255277 -0.826828\n",
       "16                       Rock  6.988308  2.974165\n",
       "17            Twelve Monkeys   3.939457 -0.530520\n",
       "18        Empire Strikes Back  2.459776  8.249251\n",
       "19  Star Trek: First Contact   0.470128  7.570615\n",
       "20        Back to the Future   0.485609  6.695891"
      ]
     },
     "execution_count": 625,
     "metadata": {},
     "output_type": "execute_result"
    }
   ],
   "source": [
    "df = pd.DataFrame({'X' : movies_2d[most_rated_movies][:,0], 'Y' : movies_2d[most_rated_movies][:,1], 'Movie' : movie_labels })\n",
    "df.index = df.index + 1\n",
    "df.to_csv('movie_dist.csv')\n",
    "df"
   ]
  },
  {
   "cell_type": "code",
   "execution_count": null,
   "metadata": {
    "collapsed": true
   },
   "outputs": [],
   "source": [
    "# fig, ax = plt.subplots()\n",
    "# ax.set_xlim(-20,20)\n",
    "# ax.set_ylim(-3,10)\n",
    "# ax.scatter(x=movies_2d[most_rated_movies][:,0], y=movies_2d[most_rated_movies][:,1])\n",
    "# for i, txt in exnumerate(movie_labels):\n",
    "#     ax.annotate(txt, (movie_list[0][i,0],movie_list[0][i,1]))"
   ]
  }
 ],
 "metadata": {
  "anaconda-cloud": {},
  "kernelspec": {
   "display_name": "Python [Root]",
   "language": "python",
   "name": "Python [Root]"
  },
  "language_info": {
   "codemirror_mode": {
    "name": "ipython",
    "version": 2
   },
   "file_extension": ".py",
   "mimetype": "text/x-python",
   "name": "python",
   "nbconvert_exporter": "python",
   "pygments_lexer": "ipython2",
   "version": "2.7.12"
  }
 },
 "nbformat": 4,
 "nbformat_minor": 2
}
